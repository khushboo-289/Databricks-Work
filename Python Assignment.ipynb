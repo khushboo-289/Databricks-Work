{
 "cells": [
  {
   "cell_type": "markdown",
   "metadata": {
    "application/vnd.databricks.v1+cell": {
     "cellMetadata": {},
     "inputWidgets": {},
     "nuid": "b6ea958b-7cc1-45f1-9201-45abef838c62",
     "showTitle": false,
     "tableResultSettingsMap": {},
     "title": ""
    }
   },
   "source": [
    "# 📝 Assignment: Python Collections\n",
    "This notebook contains practice exercises on Python collections like List, Dictionary, Tuple, and Set."
   ]
  },
  {
   "cell_type": "markdown",
   "metadata": {
    "application/vnd.databricks.v1+cell": {
     "cellMetadata": {},
     "inputWidgets": {},
     "nuid": "08f6559a-5e7e-48de-b378-d2aef8446fea",
     "showTitle": false,
     "tableResultSettingsMap": {},
     "title": ""
    }
   },
   "source": [
    "## ✅ Part 1: List Operations\n",
    "Given the list of sales amounts:"
   ]
  },
  {
   "cell_type": "code",
   "execution_count": 0,
   "metadata": {
    "application/vnd.databricks.v1+cell": {
     "cellMetadata": {
      "byteLimit": 2048000,
      "rowLimit": 10000
     },
     "inputWidgets": {},
     "nuid": "10dfedbd-325c-4aa1-8629-2dfcd3d97ea4",
     "showTitle": false,
     "tableResultSettingsMap": {},
     "title": ""
    }
   },
   "outputs": [],
   "source": [
    "sales = [250, 300, 400, 150, 500, 200]"
   ]
  },
  {
   "cell_type": "markdown",
   "metadata": {
    "application/vnd.databricks.v1+cell": {
     "cellMetadata": {},
     "inputWidgets": {},
     "nuid": "d3d74137-5739-4ab9-adc8-64d2fd62a190",
     "showTitle": false,
     "tableResultSettingsMap": {},
     "title": ""
    }
   },
   "source": [
    "**Tasks:**\n",
    "1. Find the total sales.\n",
    "2. Calculate the average sale amount.\n",
    "3. Print sale values above 300.\n",
    "4. Add `350` to the list.\n",
    "5. Sort the list in descending order."
   ]
  },
  {
   "cell_type": "code",
   "execution_count": 0,
   "metadata": {
    "application/vnd.databricks.v1+cell": {
     "cellMetadata": {
      "byteLimit": 2048000,
      "rowLimit": 10000
     },
     "inputWidgets": {},
     "nuid": "35d57a42-119c-4164-b99a-c2fc57f1f29f",
     "showTitle": false,
     "tableResultSettingsMap": {},
     "title": ""
    }
   },
   "outputs": [
    {
     "output_type": "stream",
     "name": "stdout",
     "output_type": "stream",
     "text": [
      "total sales =  1800\navg =  300.0\n400\n500\n[250, 300, 400, 150, 500, 200, 350]\ndecending sales= [500, 400, 350, 300, 250, 200, 150]\n"
     ]
    }
   ],
   "source": [
    "#TOTAL SALES\n",
    "sales = [250, 300, 400, 150, 500, 200]\n",
    "sum1 = sum(sales)\n",
    "print(\"total sales = \",sum1)\n",
    "avg = sum1/len(sales)\n",
    "print(\"avg = \",avg)\n",
    "for i in sales:\n",
    "    if(i > 300):\n",
    "        print(i)\n",
    "sales.append(350)\n",
    "print(sales)\n",
    "sales.sort(reverse=True)\n",
    "print(\"decending sales=\",sales)    \n",
    "\n",
    "    "
   ]
  },
  {
   "cell_type": "markdown",
   "metadata": {
    "application/vnd.databricks.v1+cell": {
     "cellMetadata": {},
     "inputWidgets": {},
     "nuid": "657c7757-b300-4c83-b6d8-849dfe05bb71",
     "showTitle": false,
     "tableResultSettingsMap": {},
     "title": ""
    }
   },
   "source": [
    "## ✅ Part 2: Dictionary Operations\n",
    "Create a dictionary with product names and their prices:"
   ]
  },
  {
   "cell_type": "code",
   "execution_count": 0,
   "metadata": {
    "application/vnd.databricks.v1+cell": {
     "cellMetadata": {},
     "inputWidgets": {},
     "nuid": "601cf021-8422-49d7-9646-5d77a268fb2a",
     "showTitle": false,
     "tableResultSettingsMap": {},
     "title": ""
    }
   },
   "outputs": [],
   "source": [
    "products = {\n",
    "    \"Laptop\": 70000,\n",
    "    \"Mouse\": 500,\n",
    "    \"Keyboard\": 1500,\n",
    "    \"Monitor\": 12000\n",
    "}"
   ]
  },
  {
   "cell_type": "markdown",
   "metadata": {
    "application/vnd.databricks.v1+cell": {
     "cellMetadata": {},
     "inputWidgets": {},
     "nuid": "64050f28-a014-40de-856a-1d8a2c7a14b8",
     "showTitle": false,
     "tableResultSettingsMap": {},
     "title": ""
    }
   },
   "source": [
    "**Tasks:**\n",
    "1. Print the price of the \"Monitor\".\n",
    "2. Add a new product `\"Webcam\"` with price `3000`.\n",
    "3. Update the price of \"Mouse\" to `550`.\n",
    "4. Print all product names and prices using a loop."
   ]
  },
  {
   "cell_type": "code",
   "execution_count": 0,
   "metadata": {
    "application/vnd.databricks.v1+cell": {
     "cellMetadata": {
      "byteLimit": 2048000,
      "rowLimit": 10000
     },
     "inputWidgets": {},
     "nuid": "de863127-a684-4d72-80af-dd9d22189a44",
     "showTitle": false,
     "tableResultSettingsMap": {},
     "title": ""
    }
   },
   "outputs": [
    {
     "output_type": "stream",
     "name": "stdout",
     "output_type": "stream",
     "text": [
      "Price of the monitor 12000\nAdded new product {'Laptop': 70000, 'Mouse': 500, 'Keyboard': 1500, 'Monitor': 12000, 'Webcam': 3000}\nUpdated price of Mouse {'Laptop': 70000, 'Mouse': 550, 'Keyboard': 1500, 'Monitor': 12000, 'Webcam': 3000}\nLaptop:70000\nMouse:550\nKeyboard:1500\nMonitor:12000\nWebcam:3000\n"
     ]
    }
   ],
   "source": [
    "products = {\n",
    "    \"Laptop\": 70000,\n",
    "    \"Mouse\": 500,\n",
    "    \"Keyboard\": 1500,\n",
    "    \"Monitor\": 12000\n",
    "}\n",
    "print(\"Price of the monitor\",products[\"Monitor\"])\n",
    "products[\"Webcam\"]=3000\n",
    "print(\"Added new product\",products)\n",
    "products[\"Mouse\"]=550\n",
    "print(\"Updated price of Mouse\",products)\n",
    "for key,value in products.items():\n",
    "    print(f\"{key}:{value}\")\n"
   ]
  }
 ],
 "metadata": {
  "application/vnd.databricks.v1+notebook": {
   "computePreferences": null,
   "dashboards": [],
   "environmentMetadata": null,
   "inputWidgetPreferences": null,
   "language": "python",
   "notebookMetadata": {
    "pythonIndentUnit": 4
   },
   "notebookName": "Python Assignment",
   "widgets": {}
  },
  "kernelspec": {
   "display_name": "Python 3",
   "language": "python",
   "name": "python3"
  },
  "language_info": {
   "name": "python",
   "version": "3.8"
  }
 },
 "nbformat": 4,
 "nbformat_minor": 0
}