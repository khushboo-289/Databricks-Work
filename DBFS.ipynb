{
 "cells": [
  {
   "cell_type": "code",
   "execution_count": 0,
   "metadata": {
    "application/vnd.databricks.v1+cell": {
     "cellMetadata": {
      "byteLimit": 2048000,
      "rowLimit": 10000
     },
     "inputWidgets": {},
     "nuid": "0339aee4-8627-4261-874d-36f395baea21",
     "showTitle": false,
     "tableResultSettingsMap": {},
     "title": ""
    }
   },
   "outputs": [
    {
     "output_type": "stream",
     "name": "stdout",
     "output_type": "stream",
     "text": [
      "+---------+-------------+-------+----------+------------------------+-----------------------+\n|2014 rank|         City|  State|State Code|2014 Population estimate|2015 median sales price|\n+---------+-------------+-------+----------+------------------------+-----------------------+\n|      101|   Birmingham|Alabama|        AL|                  212247|                  162.9|\n|      125|   Huntsville|Alabama|        AL|                  188226|                  157.7|\n|      122|       Mobile|Alabama|        AL|                  194675|                  122.5|\n|      114|   Montgomery|Alabama|        AL|                  200481|                  129.0|\n|       64|Anchorage[19]| Alaska|        AK|                  301010|                   null|\n+---------+-------------+-------+----------+------------------------+-----------------------+\nonly showing top 5 rows\n\n"
     ]
    }
   ],
   "source": [
    "df = spark.read.csv(\"/databricks-datasets/samples/population-vs-price/data_geo.csv\", header=True, inferSchema=True)\n",
    "df.show(5)"
   ]
  }
 ],
 "metadata": {
  "application/vnd.databricks.v1+notebook": {
   "computePreferences": null,
   "dashboards": [],
   "environmentMetadata": {
    "base_environment": "",
    "environment_version": "1"
   },
   "inputWidgetPreferences": null,
   "language": "python",
   "notebookMetadata": {
    "pythonIndentUnit": 4
   },
   "notebookName": "DBFS",
   "widgets": {}
  }
 },
 "nbformat": 4,
 "nbformat_minor": 0
}