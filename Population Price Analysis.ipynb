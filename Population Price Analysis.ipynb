{
 "cells": [
  {
   "cell_type": "code",
   "execution_count": 0,
   "metadata": {
    "application/vnd.databricks.v1+cell": {
     "cellMetadata": {
      "byteLimit": 2048000,
      "rowLimit": 10000
     },
     "inputWidgets": {},
     "nuid": "48d5422a-8809-4943-8c6b-d437084c8cf0",
     "showTitle": false,
     "tableResultSettingsMap": {},
     "title": ""
    }
   },
   "outputs": [
    {
     "output_type": "stream",
     "name": "stdout",
     "output_type": "stream",
     "text": [
      "root\n |-- 2014 rank: integer (nullable = true)\n |-- City: string (nullable = true)\n |-- State: string (nullable = true)\n |-- State Code: string (nullable = true)\n |-- 2014 Population estimate: integer (nullable = true)\n |-- 2015 median sales price: double (nullable = true)\n\n+---------+-------------+-------+----------+------------------------+-----------------------+\n|2014 rank|         City|  State|State Code|2014 Population estimate|2015 median sales price|\n+---------+-------------+-------+----------+------------------------+-----------------------+\n|      101|   Birmingham|Alabama|        AL|                  212247|                  162.9|\n|      125|   Huntsville|Alabama|        AL|                  188226|                  157.7|\n|      122|       Mobile|Alabama|        AL|                  194675|                  122.5|\n|      114|   Montgomery|Alabama|        AL|                  200481|                  129.0|\n|       64|Anchorage[19]| Alaska|        AK|                  301010|                   null|\n+---------+-------------+-------+----------+------------------------+-----------------------+\nonly showing top 5 rows\n\n"
     ]
    }
   ],
   "source": [
    "# Load the dataset from DBFS (Databricks Filesystem)\n",
    "file_path = \"/databricks-datasets/samples/population-vs-price/data_geo.csv\"\n",
    "df = spark.read.csv(file_path, header=True, inferSchema=True)\n",
    "df.printSchema()\n",
    "df.show(5)"
   ]
  },
  {
   "cell_type": "code",
   "execution_count": 0,
   "metadata": {
    "application/vnd.databricks.v1+cell": {
     "cellMetadata": {
      "byteLimit": 2048000,
      "rowLimit": 10000
     },
     "inputWidgets": {},
     "nuid": "e66c9b1f-5923-4285-9dd7-f12f408331df",
     "showTitle": false,
     "tableResultSettingsMap": {},
     "title": ""
    }
   },
   "outputs": [
    {
     "output_type": "stream",
     "name": "stdout",
     "output_type": "stream",
     "text": [
      "+-------------+-------+----------+------------------------+-----------------------+\n|         City|  State|State Code|2014 Population estimate|2015 median sales price|\n+-------------+-------+----------+------------------------+-----------------------+\n|   Birmingham|Alabama|        AL|                  212247|                  162.9|\n|   Huntsville|Alabama|        AL|                  188226|                  157.7|\n|       Mobile|Alabama|        AL|                  194675|                  122.5|\n|   Montgomery|Alabama|        AL|                  200481|                  129.0|\n|Anchorage[19]| Alaska|        AK|                  301010|                   null|\n+-------------+-------+----------+------------------------+-----------------------+\nonly showing top 5 rows\n\n"
     ]
    }
   ],
   "source": [
    "# Select relevant columns for analysis\n",
    "df_selected = df.select(\n",
    "    \"City\", \"State\", \"State Code\", \n",
    "    \"2014 Population estimate\", \"2015 median sales price\"\n",
    ")\n",
    "df_selected.show(5)"
   ]
  },
  {
   "cell_type": "code",
   "execution_count": 0,
   "metadata": {
    "application/vnd.databricks.v1+cell": {
     "cellMetadata": {
      "byteLimit": 2048000,
      "rowLimit": 10000
     },
     "inputWidgets": {},
     "nuid": "174a63c1-e019-4e87-a008-f5171acb95ae",
     "showTitle": false,
     "tableResultSettingsMap": {},
     "title": ""
    }
   },
   "outputs": [
    {
     "output_type": "display_data",
     "data": {
      "text/html": [
       "<style scoped>\n",
       "  .table-result-container {\n",
       "    max-height: 300px;\n",
       "    overflow: auto;\n",
       "  }\n",
       "  table, th, td {\n",
       "    border: 1px solid black;\n",
       "    border-collapse: collapse;\n",
       "  }\n",
       "  th, td {\n",
       "    padding: 5px;\n",
       "  }\n",
       "  th {\n",
       "    text-align: left;\n",
       "  }\n",
       "</style><div class='table-result-container'><table class='table-result'><thead style='background-color: white'><tr><th>2014 rank</th><th>City</th><th>State</th><th>State Code</th><th>2014 Population estimate</th><th>2015 median sales price</th></tr></thead><tbody><tr><td>1</td><td>New York[6]</td><td>New York</td><td>NY</td><td>8491079</td><td>388.6</td></tr><tr><td>2</td><td>Los Angeles</td><td>California</td><td>CA</td><td>3928864</td><td>434.7</td></tr><tr><td>3</td><td>Chicago</td><td>Illinois</td><td>IL</td><td>2722389</td><td>192.5</td></tr><tr><td>4</td><td>Houston[7]</td><td>Texas</td><td>TX</td><td>2239558</td><td>200.3</td></tr><tr><td>5</td><td>Philadelphia[8]</td><td>Pennsylvania</td><td>PA</td><td>1560297</td><td>204.9</td></tr><tr><td>6</td><td>Phoenix</td><td>Arizona</td><td>AZ</td><td>1537058</td><td>206.1</td></tr><tr><td>7</td><td>San Antonio</td><td>Texas</td><td>TX</td><td>1436697</td><td>184.7</td></tr><tr><td>8</td><td>San Diego</td><td>California</td><td>CA</td><td>1381069</td><td>510.3</td></tr><tr><td>9</td><td>Dallas</td><td>Texas</td><td>TX</td><td>1281047</td><td>192.5</td></tr><tr><td>10</td><td>San Jose</td><td>California</td><td>CA</td><td>1015785</td><td>900.0</td></tr></tbody></table></div>"
      ]
     },
     "metadata": {
      "application/vnd.databricks.v1+output": {
       "addedWidgets": {},
       "aggData": [],
       "aggError": "",
       "aggOverflow": false,
       "aggSchema": [],
       "aggSeriesLimitReached": false,
       "aggType": "",
       "arguments": {},
       "columnCustomDisplayInfos": {},
       "data": [
        [
         1,
         "New York[6]",
         "New York",
         "NY",
         8491079,
         388.6
        ],
        [
         2,
         "Los Angeles",
         "California",
         "CA",
         3928864,
         434.7
        ],
        [
         3,
         "Chicago",
         "Illinois",
         "IL",
         2722389,
         192.5
        ],
        [
         4,
         "Houston[7]",
         "Texas",
         "TX",
         2239558,
         200.3
        ],
        [
         5,
         "Philadelphia[8]",
         "Pennsylvania",
         "PA",
         1560297,
         204.9
        ],
        [
         6,
         "Phoenix",
         "Arizona",
         "AZ",
         1537058,
         206.1
        ],
        [
         7,
         "San Antonio",
         "Texas",
         "TX",
         1436697,
         184.7
        ],
        [
         8,
         "San Diego",
         "California",
         "CA",
         1381069,
         510.3
        ],
        [
         9,
         "Dallas",
         "Texas",
         "TX",
         1281047,
         192.5
        ],
        [
         10,
         "San Jose",
         "California",
         "CA",
         1015785,
         900.0
        ]
       ],
       "datasetInfos": [],
       "dbfsResultPath": null,
       "isJsonSchema": true,
       "metadata": {},
       "overflow": false,
       "plotOptions": {
        "customPlotOptions": {},
        "displayType": "table",
        "pivotAggregation": null,
        "pivotColumns": null,
        "xColumns": null,
        "yColumns": null
       },
       "removedWidgets": [],
       "schema": [
        {
         "metadata": "{}",
         "name": "2014 rank",
         "type": "\"integer\""
        },
        {
         "metadata": "{}",
         "name": "City",
         "type": "\"string\""
        },
        {
         "metadata": "{}",
         "name": "State",
         "type": "\"string\""
        },
        {
         "metadata": "{}",
         "name": "State Code",
         "type": "\"string\""
        },
        {
         "metadata": "{}",
         "name": "2014 Population estimate",
         "type": "\"integer\""
        },
        {
         "metadata": "{}",
         "name": "2015 median sales price",
         "type": "\"double\""
        }
       ],
       "type": "table"
      }
     },
     "output_type": "display_data"
    },
    {
     "output_type": "display_data",
     "data": {
      "text/plain": [
       "Databricks visualization. Run in Databricks to view."
      ]
     },
     "metadata": {
      "application/vnd.databricks.v1.subcommand+json": {
       "baseErrorDetails": null,
       "bindings": {},
       "collapsed": false,
       "command": "%python\n__backend_agg_display_orig = display\n__backend_agg_dfs = []\ndef __backend_agg_display_new(df):\n    __backend_agg_df_modules = [\"pandas.core.frame\", \"databricks.koalas.frame\", \"pyspark.sql.dataframe\", \"pyspark.pandas.frame\", \"pyspark.sql.connect.dataframe\"]\n    if (type(df).__module__ in __backend_agg_df_modules and type(df).__name__ == 'DataFrame') or isinstance(df, list):\n        __backend_agg_dfs.append(df)\n\ndisplay = __backend_agg_display_new\n\ndef __backend_agg_user_code_fn():\n    import base64\n    exec(base64.standard_b64decode(\"I3RvcCAxMCBtb3N0IHBvcHVsYXIgY2l0aWVzCmZyb20gcHlzcGFyay5zcWwuZnVuY3Rpb25zIGltcG9ydCBkZXNjCgpkZl9jaXR5PWRmLm9yZGVyQnkoZGVzYygiMjAxNCBQb3B1bGF0aW9uIGVzdGltYXRlIikpLmxpbWl0KDEwKQpkaXNwbGF5KGRmX2NpdHkpCgoK\").decode())\n\ntry:\n    # run user code\n    __backend_agg_user_code_fn()\n\n    #reset display function\n    display = __backend_agg_display_orig\n\n    if len(__backend_agg_dfs) > 0:\n        # create a temp view\n        if type(__backend_agg_dfs[0]).__module__ == \"databricks.koalas.frame\":\n            # koalas dataframe\n            __backend_agg_dfs[0].to_spark().createOrReplaceTempView(\"DatabricksViewf207e08\")\n        elif type(__backend_agg_dfs[0]).__module__ == \"pandas.core.frame\" or isinstance(__backend_agg_dfs[0], list):\n            # pandas dataframe\n            spark.createDataFrame(__backend_agg_dfs[0]).createOrReplaceTempView(\"DatabricksViewf207e08\")\n        else:\n            __backend_agg_dfs[0].createOrReplaceTempView(\"DatabricksViewf207e08\")\n        #run backend agg\n        display(spark.sql(\"\"\"WITH q AS (select * from DatabricksViewf207e08) SELECT `City`,SUM(`2014 Population estimate`) `column_1c41a1bb56` FROM q GROUP BY `City`\"\"\"))\n    else:\n        displayHTML(\"dataframe no longer exists. If you're using dataframe.display(), use display(dataframe) instead.\")\n\n\nfinally:\n    spark.sql(\"drop view if exists DatabricksViewf207e08\")\n    display = __backend_agg_display_orig\n    del __backend_agg_display_new\n    del __backend_agg_display_orig\n    del __backend_agg_dfs\n    del __backend_agg_user_code_fn\n\n",
       "commandTitle": "Visualization 1",
       "commandType": "auto",
       "commandVersion": 0,
       "commentThread": [],
       "commentsVisible": false,
       "contentSha256Hex": null,
       "customPlotOptions": {
        "redashChart": [
         {
          "key": "type",
          "value": "CHART"
         },
         {
          "key": "options",
          "value": {
           "alignYAxesAtZero": true,
           "coefficient": 1,
           "columnConfigurationMap": {
            "x": {
             "column": "City",
             "id": "column_1c41a1bb54"
            },
            "y": [
             {
              "column": "2014 Population estimate",
              "id": "column_1c41a1bb56",
              "transform": "SUM"
             }
            ]
           },
           "dateTimeFormat": "DD/MM/YYYY HH:mm",
           "direction": {
            "type": "counterclockwise"
           },
           "error_y": {
            "type": "data",
            "visible": true
           },
           "globalSeriesType": "pie",
           "isAggregationOn": true,
           "legend": {
            "traceorder": "normal"
           },
           "missingValuesAsZero": true,
           "numberFormat": "0,0.[00000]",
           "percentFormat": "0[.]00%",
           "series": {
            "error_y": {
             "type": "data",
             "visible": true
            },
            "stacking": null
           },
           "seriesOptions": {
            "column_1c41a1bb56": {
             "type": "pie",
             "yAxis": 0
            }
           },
           "showDataLabels": true,
           "sizemode": "diameter",
           "sortX": true,
           "sortY": true,
           "swappedAxes": false,
           "textFormat": "",
           "useAggregationsUi": true,
           "valuesOptions": {},
           "version": 2,
           "xAxis": {
            "labels": {
             "enabled": true
            },
            "type": "-"
           },
           "yAxis": [
            {
             "type": "-"
            },
            {
             "opposite": true,
             "type": "-"
            }
           ]
          }
         }
        ]
       },
       "datasetPreviewNameToCmdIdMap": {},
       "diffDeletes": [],
       "diffInserts": [],
       "displayType": "redashChart",
       "error": null,
       "errorDetails": null,
       "errorSummary": null,
       "errorTraceType": null,
       "finishTime": 0,
       "globalVars": {},
       "guid": "",
       "height": "auto",
       "hideCommandCode": false,
       "hideCommandResult": false,
       "iPythonMetadata": null,
       "inputWidgets": {},
       "isLockedInExamMode": false,
       "latestUser": "a user",
       "latestUserId": null,
       "listResultMetadata": null,
       "metadata": {},
       "nuid": "ef888c19-afdc-4d01-bb4e-11166624bb72",
       "origId": 0,
       "parentHierarchy": [],
       "pivotAggregation": null,
       "pivotColumns": null,
       "position": 4.0,
       "resultDbfsErrorMessage": null,
       "resultDbfsStatus": "INLINED_IN_TREE",
       "results": null,
       "showCommandTitle": false,
       "startTime": 0,
       "state": "input",
       "streamStates": {},
       "subcommandOptions": {
        "queryPlan": {
         "groups": [
          {
           "column": "City",
           "type": "column"
          }
         ],
         "selects": [
          {
           "column": "City",
           "type": "column"
          },
          {
           "alias": "column_1c41a1bb56",
           "args": [
            {
             "column": "2014 Population estimate",
             "type": "column"
            }
           ],
           "function": "SUM",
           "type": "function"
          }
         ]
        }
       },
       "submitTime": 0,
       "subtype": "tableResultSubCmd.visualization",
       "tableResultIndex": 0,
       "tableResultSettingsMap": {},
       "useConsistentColors": false,
       "version": "CommandV1",
       "width": "auto",
       "workflows": [],
       "xColumns": null,
       "yColumns": null
      }
     },
     "output_type": "display_data"
    }
   ],
   "source": [
    "#top 10 most popular cities\n",
    "from pyspark.sql.functions import desc\n",
    "\n",
    "df_city=df.orderBy(desc(\"2014 Population estimate\")).limit(10)\n",
    "display(df_city)\n",
    "\n",
    "\n"
   ]
  },
  {
   "cell_type": "code",
   "execution_count": 0,
   "metadata": {
    "application/vnd.databricks.v1+cell": {
     "cellMetadata": {
      "byteLimit": 2048000,
      "rowLimit": 10000
     },
     "inputWidgets": {},
     "nuid": "67f39af4-1d15-4a23-9765-dbd5b42afe26",
     "showTitle": false,
     "tableResultSettingsMap": {},
     "title": ""
    }
   },
   "outputs": [
    {
     "output_type": "stream",
     "name": "stdout",
     "output_type": "stream",
     "text": [
      "+--------------------+------------------+\n|               State|  Avg Median Price|\n+--------------------+------------------+\n|             Hawai'i|             699.3|\n|          California| 547.9714285714286|\n|District of Columbia|             367.8|\n|          New Jersey|             350.8|\n|            Colorado|333.46666666666664|\n|          Washington|266.29999999999995|\n|       Massachusetts|             261.8|\n|         Connecticut|250.13333333333333|\n|                Utah|             243.3|\n|       New Hampshire|             237.4|\n|              Nevada|             237.3|\n|        Rhode Island|             233.3|\n|              Oregon|231.53333333333333|\n|            Maryland|             223.1|\n|           Wisconsin|             210.8|\n|           Minnesota|             209.4|\n|            Virginia|            201.25|\n|             Arizona|             192.1|\n|            New York|           185.775|\n|        Pennsylvania|             183.8|\n+--------------------+------------------+\nonly showing top 20 rows\n\n"
     ]
    }
   ],
   "source": [
    "#average median sales price by state\n",
    "from pyspark.sql.functions import avg\n",
    "df_selected.groupBy(\"State\").agg(avg(\"2015 median sales price\").alias(\"Avg Median Price\")\n",
    ").orderBy(\"Avg Median Price\",ascending=False).show()"
   ]
  },
  {
   "cell_type": "code",
   "execution_count": 0,
   "metadata": {
    "application/vnd.databricks.v1+cell": {
     "cellMetadata": {
      "byteLimit": 2048000,
      "rowLimit": 10000
     },
     "inputWidgets": {},
     "nuid": "efa99b97-ff09-40e4-b4bf-79bb8a20bb68",
     "showTitle": false,
     "tableResultSettingsMap": {},
     "title": ""
    }
   },
   "outputs": [
    {
     "output_type": "display_data",
     "data": {
      "text/html": [
       "<style scoped>\n",
       "  .table-result-container {\n",
       "    max-height: 300px;\n",
       "    overflow: auto;\n",
       "  }\n",
       "  table, th, td {\n",
       "    border: 1px solid black;\n",
       "    border-collapse: collapse;\n",
       "  }\n",
       "  th, td {\n",
       "    padding: 5px;\n",
       "  }\n",
       "  th {\n",
       "    text-align: left;\n",
       "  }\n",
       "</style><div class='table-result-container'><table class='table-result'><thead style='background-color: white'><tr><th>City</th><th>2014 Population estimate</th></tr></thead><tbody><tr><td>Phoenix</td><td>1537058</td></tr><tr><td>Los Angeles</td><td>3928864</td></tr><tr><td>San Diego</td><td>1381069</td></tr><tr><td>San Jose</td><td>1015785</td></tr><tr><td>Chicago</td><td>2722389</td></tr><tr><td>New York[6]</td><td>8491079</td></tr><tr><td>Philadelphia[8]</td><td>1560297</td></tr><tr><td>Dallas</td><td>1281047</td></tr><tr><td>Houston[7]</td><td>2239558</td></tr><tr><td>San Antonio</td><td>1436697</td></tr></tbody></table></div>"
      ]
     },
     "metadata": {
      "application/vnd.databricks.v1+output": {
       "addedWidgets": {},
       "aggData": [],
       "aggError": "",
       "aggOverflow": false,
       "aggSchema": [],
       "aggSeriesLimitReached": false,
       "aggType": "",
       "arguments": {},
       "columnCustomDisplayInfos": {},
       "data": [
        [
         "Phoenix",
         1537058
        ],
        [
         "Los Angeles",
         3928864
        ],
        [
         "San Diego",
         1381069
        ],
        [
         "San Jose",
         1015785
        ],
        [
         "Chicago",
         2722389
        ],
        [
         "New York[6]",
         8491079
        ],
        [
         "Philadelphia[8]",
         1560297
        ],
        [
         "Dallas",
         1281047
        ],
        [
         "Houston[7]",
         2239558
        ],
        [
         "San Antonio",
         1436697
        ]
       ],
       "datasetInfos": [],
       "dbfsResultPath": null,
       "isJsonSchema": true,
       "metadata": {},
       "overflow": false,
       "plotOptions": {
        "customPlotOptions": {},
        "displayType": "table",
        "pivotAggregation": null,
        "pivotColumns": null,
        "xColumns": null,
        "yColumns": null
       },
       "removedWidgets": [],
       "schema": [
        {
         "metadata": "{}",
         "name": "City",
         "type": "\"string\""
        },
        {
         "metadata": "{}",
         "name": "2014 Population estimate",
         "type": "\"integer\""
        }
       ],
       "type": "table"
      }
     },
     "output_type": "display_data"
    },
    {
     "output_type": "display_data",
     "data": {
      "text/plain": [
       "Databricks visualization. Run in Databricks to view."
      ]
     },
     "metadata": {
      "application/vnd.databricks.v1.subcommand+json": {
       "baseErrorDetails": null,
       "bindings": {},
       "collapsed": false,
       "command": "%python\n__backend_agg_display_orig = display\n__backend_agg_dfs = []\ndef __backend_agg_display_new(df):\n    __backend_agg_df_modules = [\"pandas.core.frame\", \"databricks.koalas.frame\", \"pyspark.sql.dataframe\", \"pyspark.pandas.frame\", \"pyspark.sql.connect.dataframe\"]\n    if (type(df).__module__ in __backend_agg_df_modules and type(df).__name__ == 'DataFrame') or isinstance(df, list):\n        __backend_agg_dfs.append(df)\n\ndisplay = __backend_agg_display_new\n\ndef __backend_agg_user_code_fn():\n    import base64\n    exec(base64.standard_b64decode(\"IyBGaWx0ZXIgY2l0aWVzIHdpdGggcG9wdWxhdGlvbgojZGYuZmlsdGVyKGRmWyJpZCJdID4gMSkuc2hvdygpCmRpc3BsYXkoZGZfc2VsZWN0ZWQuc2VsZWN0KCJDaXR5IiwiMjAxNCBQb3B1bGF0aW9uIGVzdGltYXRlIikuZmlsdGVyKGRmX3NlbGVjdGVkWyIyMDE0IFBvcHVsYXRpb24gZXN0aW1hdGUiXT4xMDAwMDAwKSkK\").decode())\n\ntry:\n    # run user code\n    __backend_agg_user_code_fn()\n\n    #reset display function\n    display = __backend_agg_display_orig\n\n    if len(__backend_agg_dfs) > 0:\n        # create a temp view\n        if type(__backend_agg_dfs[0]).__module__ == \"databricks.koalas.frame\":\n            # koalas dataframe\n            __backend_agg_dfs[0].to_spark().createOrReplaceTempView(\"DatabricksView4578efb\")\n        elif type(__backend_agg_dfs[0]).__module__ == \"pandas.core.frame\" or isinstance(__backend_agg_dfs[0], list):\n            # pandas dataframe\n            spark.createDataFrame(__backend_agg_dfs[0]).createOrReplaceTempView(\"DatabricksView4578efb\")\n        else:\n            __backend_agg_dfs[0].createOrReplaceTempView(\"DatabricksView4578efb\")\n        #run backend agg\n        display(spark.sql(\"\"\"WITH q AS (select * from DatabricksView4578efb) SELECT `City`,SUM(`2014 Population estimate`) `column_1c41a1bb101` FROM q GROUP BY `City`\"\"\"))\n    else:\n        displayHTML(\"dataframe no longer exists. If you're using dataframe.display(), use display(dataframe) instead.\")\n\n\nfinally:\n    spark.sql(\"drop view if exists DatabricksView4578efb\")\n    display = __backend_agg_display_orig\n    del __backend_agg_display_new\n    del __backend_agg_display_orig\n    del __backend_agg_dfs\n    del __backend_agg_user_code_fn\n\n",
       "commandTitle": "Visualization 1",
       "commandType": "auto",
       "commandVersion": 0,
       "commentThread": [],
       "commentsVisible": false,
       "contentSha256Hex": null,
       "customPlotOptions": {
        "redashChart": [
         {
          "key": "type",
          "value": "CHART"
         },
         {
          "key": "options",
          "value": {
           "alignYAxesAtZero": true,
           "coefficient": 1,
           "columnConfigurationMap": {
            "x": {
             "column": "City",
             "id": "column_1c41a1bb100"
            },
            "y": [
             {
              "column": "2014 Population estimate",
              "id": "column_1c41a1bb101",
              "transform": "SUM"
             }
            ]
           },
           "dateTimeFormat": "DD/MM/YYYY HH:mm",
           "direction": {
            "type": "counterclockwise"
           },
           "error_y": {
            "type": "data",
            "visible": true
           },
           "globalSeriesType": "column",
           "isAggregationOn": true,
           "legend": {
            "traceorder": "normal"
           },
           "missingValuesAsZero": true,
           "numberFormat": "0,0.[00000]",
           "percentFormat": "0[.]00%",
           "series": {
            "error_y": {
             "type": "data",
             "visible": true
            },
            "stacking": null
           },
           "seriesOptions": {
            "column_1c41a1bb101": {
             "name": "2014 Population estimate",
             "yAxis": 0
            }
           },
           "showDataLabels": false,
           "sizemode": "diameter",
           "sortX": true,
           "sortY": true,
           "swappedAxes": false,
           "textFormat": "",
           "useAggregationsUi": true,
           "valuesOptions": {},
           "version": 2,
           "xAxis": {
            "labels": {
             "enabled": true
            },
            "type": "-"
           },
           "yAxis": [
            {
             "type": "-"
            },
            {
             "opposite": true,
             "type": "-"
            }
           ]
          }
         }
        ]
       },
       "datasetPreviewNameToCmdIdMap": {},
       "diffDeletes": [],
       "diffInserts": [],
       "displayType": "redashChart",
       "error": null,
       "errorDetails": null,
       "errorSummary": null,
       "errorTraceType": null,
       "finishTime": 0,
       "globalVars": {},
       "guid": "",
       "height": "auto",
       "hideCommandCode": false,
       "hideCommandResult": false,
       "iPythonMetadata": null,
       "inputWidgets": {},
       "isLockedInExamMode": false,
       "latestUser": "a user",
       "latestUserId": null,
       "listResultMetadata": null,
       "metadata": {},
       "nuid": "8298553d-7312-4c67-9d9a-abed870521d7",
       "origId": 0,
       "parentHierarchy": [],
       "pivotAggregation": null,
       "pivotColumns": null,
       "position": 6.0,
       "resultDbfsErrorMessage": null,
       "resultDbfsStatus": "INLINED_IN_TREE",
       "results": null,
       "showCommandTitle": false,
       "startTime": 0,
       "state": "input",
       "streamStates": {},
       "subcommandOptions": {
        "queryPlan": {
         "groups": [
          {
           "column": "City",
           "type": "column"
          }
         ],
         "selects": [
          {
           "column": "City",
           "type": "column"
          },
          {
           "alias": "column_1c41a1bb101",
           "args": [
            {
             "column": "2014 Population estimate",
             "type": "column"
            }
           ],
           "function": "SUM",
           "type": "function"
          }
         ]
        }
       },
       "submitTime": 0,
       "subtype": "tableResultSubCmd.visualization",
       "tableResultIndex": 0,
       "tableResultSettingsMap": {},
       "useConsistentColors": false,
       "version": "CommandV1",
       "width": "auto",
       "workflows": [],
       "xColumns": null,
       "yColumns": null
      }
     },
     "output_type": "display_data"
    }
   ],
   "source": [
    "# Filter cities with population\n",
    "#df.filter(df[\"id\"] > 1).show()\n",
    "display(df_selected.select(\"City\",\"2014 Population estimate\").filter(df_selected[\"2014 Population estimate\"]>1000000))\n"
   ]
  },
  {
   "cell_type": "code",
   "execution_count": 0,
   "metadata": {
    "application/vnd.databricks.v1+cell": {
     "cellMetadata": {
      "byteLimit": 2048000,
      "rowLimit": 10000
     },
     "inputWidgets": {},
     "nuid": "2439f311-58d2-447a-a9b2-33390d286adb",
     "showTitle": false,
     "tableResultSettingsMap": {},
     "title": ""
    }
   },
   "outputs": [
    {
     "output_type": "stream",
     "name": "stdout",
     "output_type": "stream",
     "text": [
      "+-------------+----------+----------+------------------------+-----------------------+\n|         City|     State|State Code|2014 Population estimate|2015 median sales price|\n+-------------+----------+----------+------------------------+-----------------------+\n|Anchorage[19]|    Alaska|        AK|                  301010|                   null|\n|     Chandler|   Arizona|        AZ|                  254276|                   null|\n|  Gilbert[20]|   Arizona|        AZ|                  239277|                   null|\n|     Glendale|   Arizona|        AZ|                  237517|                   null|\n|         Mesa|   Arizona|        AZ|                  464704|                   null|\n|       Peoria|   Arizona|        AZ|                  166934|                   null|\n|   Scottsdale|   Arizona|        AZ|                  230512|                   null|\n|     Surprise|   Arizona|        AZ|                  126275|                   null|\n|        Tempe|   Arizona|        AZ|                  172816|                   null|\n|      Antioch|California|        CA|                  108930|                   null|\n|  Bakersfield|California|        CA|                  368759|                   null|\n|     Berkeley|California|        CA|                  118853|                   null|\n|      Burbank|California|        CA|                  105368|                   null|\n|     Carlsbad|California|        CA|                  112299|                   null|\n|  Chula Vista|California|        CA|                  260988|                   null|\n|       Clovis|California|        CA|                  102189|                   null|\n|      Concord|California|        CA|                  127522|                   null|\n|       Corona|California|        CA|                  161486|                   null|\n|   Costa Mesa|California|        CA|                  112784|                   null|\n|    Daly City|California|        CA|                  106094|                   null|\n+-------------+----------+----------+------------------------+-----------------------+\nonly showing top 20 rows\n\n"
     ]
    }
   ],
   "source": [
    "# Identify Cities with missing or zero price values\n",
    "# df_selected.dropna().show()\n",
    "df_selected.filter((df_selected[\"2015 median sales price\"].isNull()) | (df_selected[\"2015 median sales price\"] == 0)).show()"
   ]
  }
 ],
 "metadata": {
  "application/vnd.databricks.v1+notebook": {
   "computePreferences": null,
   "dashboards": [],
   "environmentMetadata": {
    "base_environment": "",
    "environment_version": "1"
   },
   "inputWidgetPreferences": null,
   "language": "python",
   "notebookMetadata": {
    "pythonIndentUnit": 4
   },
   "notebookName": "Population Price Analysis",
   "widgets": {}
  }
 },
 "nbformat": 4,
 "nbformat_minor": 0
}